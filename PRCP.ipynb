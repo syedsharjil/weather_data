{
 "cells": [
  {
   "cell_type": "code",
   "execution_count": null,
   "id": "2ce3fc20-3c8a-4192-ad8d-999d915adeb0",
   "metadata": {},
   "outputs": [],
   "source": [
    "import glob\n",
    "import pandas as pd\n",
    "import os\n",
    "\n",
    "import pyspark\n",
    "import warnings\n",
    "warnings.filterwarnings(action='ignore')\n",
    "\n",
    "\n",
    "from pyspark.sql import SparkSession\n",
    "\n",
    "spark = SparkSession \\\n",
    "    .builder \\\n",
    "    .getOrCreate()\n",
    "\n",
    "import pyspark.sql.functions as F"
   ]
  },
  {
   "cell_type": "code",
   "execution_count": null,
   "id": "cd617c23-8d47-4927-bc47-40bb3b7c39ad",
   "metadata": {},
   "outputs": [],
   "source": [
    "os.getcwd()"
   ]
  },
  {
   "cell_type": "code",
   "execution_count": null,
   "id": "7fb35bf6-967b-4822-a902-683e36884d0e",
   "metadata": {},
   "outputs": [],
   "source": [
    "df = spark.read.parquet('output/full_data.parquet/')"
   ]
  },
  {
   "cell_type": "code",
   "execution_count": null,
   "id": "e5025b0e-c709-4b81-b670-67ba0ae6b504",
   "metadata": {},
   "outputs": [],
   "source": [
    "df.count()"
   ]
  },
  {
   "cell_type": "code",
   "execution_count": null,
   "id": "c30e0a4e-63e1-436c-b64f-073c52975401",
   "metadata": {},
   "outputs": [],
   "source": [
    "#Nulls\n",
    "df.select([F.count(F.when(F.isnull(c), c)).alias(c) for c in ['PRCP','SNOW']]).show()"
   ]
  },
  {
   "cell_type": "code",
   "execution_count": null,
   "id": "dcda768e-f9da-4ca6-9fd2-80c3d75b19dd",
   "metadata": {},
   "outputs": [],
   "source": [
    "#Zeros\n",
    "df.select([F.count(F.when(df[c] == 0, c)).alias(c) for c in ['PRCP','SNOW']]).show()"
   ]
  },
  {
   "cell_type": "code",
   "execution_count": null,
   "id": "39d05698-13ff-44eb-b058-8067386b5c43",
   "metadata": {},
   "outputs": [],
   "source": [
    "clean_df = df.dropna(subset=['PRCP'])"
   ]
  },
  {
   "cell_type": "code",
   "execution_count": null,
   "id": "697081bd-21e0-4b63-a782-8b9f58d9b755",
   "metadata": {},
   "outputs": [],
   "source": [
    "clean_df.count()"
   ]
  },
  {
   "cell_type": "code",
   "execution_count": null,
   "id": "b3f2c657-d402-44aa-90f0-9de500a4feb3",
   "metadata": {},
   "outputs": [],
   "source": [
    "clean_df = clean_df.withColumn(\"FLAG_PRCP_NON_ZERO\", F.when(clean_df['PRCP']!=0,1).otherwise(0))\n",
    "clean_df = clean_df.withColumn(\"YEAR\", clean_df.YEARMONTH.substr(0,4)).withColumn(\"MONTH\", clean_df.YEARMONTH.substr(5,2)).withColumn(\"DAY\", clean_df.YEARMONTH.substr(7,2))"
   ]
  },
  {
   "cell_type": "code",
   "execution_count": null,
   "id": "8fc2c8fa-9305-4cc8-9dc0-6b68cede9313",
   "metadata": {
    "tags": []
   },
   "outputs": [],
   "source": [
    "clean_df.show()"
   ]
  },
  {
   "cell_type": "code",
   "execution_count": null,
   "id": "ab678171-1f9f-42bb-b4a7-9a5a87de0e06",
   "metadata": {},
   "outputs": [],
   "source": [
    "# #STATION, MONTH, YEAR\n",
    "# median_df = clean_df.groupBy(\"YEAR\",\"MONTH\",\"STATION\",\"STATE_CITY_NAME\").agg(F.sum(\"FLAG_PRCP_NON_ZERO\").alias(\"SUM_NON_ZERO\"))\n",
    "# median_df.show()"
   ]
  },
  {
   "cell_type": "code",
   "execution_count": null,
   "id": "a4f017cb-3ad6-4199-8ded-c51fb92debea",
   "metadata": {},
   "outputs": [],
   "source": [
    "agg_df_y_m_prcp = clean_df.groupBy(\"YEAR\",\"MONTH\",\"STATE_CITY_NAME\").agg(F.max(\"PRCP\").alias(\"MAX_PRCP\"), \\\n",
    "                                                                     F.min(\"PRCP\").alias(\"MIN_PRCP\"), \\\n",
    "                                                                     F.mean(\"PRCP\").alias(\"MEAN_PRCP\"), \\\n",
    "                                                                     F.percentile_approx(\"PRCP\", 0.5).alias(\"MEDIAN_PRCP\"), \\\n",
    "                                                                     F.mean(\"LONG\").alias(\"MEAN_LONG\"), \\\n",
    "                                                                     F.mean(\"LAT\").alias(\"MEAN_LAT\"))"
   ]
  },
  {
   "cell_type": "code",
   "execution_count": null,
   "id": "273b46e6-769f-4328-a052-047469a63cef",
   "metadata": {},
   "outputs": [],
   "source": [
    "agg_df_y_prcp = clean_df.groupBy(\"YEAR\",\"MONTH\",\"STATE_CITY_NAME\").agg(F.max(\"PRCP\").alias(\"MAX_PRCP\"), \\\n",
    "                                                                     F.min(\"PRCP\").alias(\"MIN_PRCP\"), \\\n",
    "                                                                     F.mean(\"PRCP\").alias(\"MEAN_PRCP\"), \\\n",
    "                                                                     F.percentile_approx(\"PRCP\", 0.5).alias(\"MEDIAN_PRCP\"), \\\n",
    "                                                                     F.mean(\"LONG\").alias(\"MEAN_LONG\"), \\\n",
    "                                                                     F.mean(\"LAT\").alias(\"MEAN_LAT\"))"
   ]
  },
  {
   "cell_type": "code",
   "execution_count": null,
   "id": "4d1fdb81-bd5c-4f61-8936-3e97fd1a6caa",
   "metadata": {},
   "outputs": [],
   "source": [
    "agg_df_y_m_prcp.write.parquet('output/agg_df_y_m_prcp.parquet')\n",
    "agg_df_y_prcp.write.parquet('output/agg_df_y_prcp.parquet')"
   ]
  },
  {
   "cell_type": "code",
   "execution_count": null,
   "id": "24f23abd-4fa2-4b8f-9733-29b71391be5e",
   "metadata": {},
   "outputs": [],
   "source": []
  },
  {
   "cell_type": "code",
   "execution_count": null,
   "id": "31abbcea-918e-428d-808d-ec1f0fc0da4b",
   "metadata": {},
   "outputs": [],
   "source": []
  },
  {
   "cell_type": "code",
   "execution_count": null,
   "id": "4ff7c14e-304d-40d8-9efd-8dc7014678d4",
   "metadata": {},
   "outputs": [],
   "source": []
  }
 ],
 "metadata": {
  "kernelspec": {
   "display_name": "Python 3",
   "language": "python",
   "name": "python3"
  },
  "language_info": {
   "codemirror_mode": {
    "name": "ipython",
    "version": 3
   },
   "file_extension": ".py",
   "mimetype": "text/x-python",
   "name": "python",
   "nbconvert_exporter": "python",
   "pygments_lexer": "ipython3",
   "version": "3.8.8"
  }
 },
 "nbformat": 4,
 "nbformat_minor": 5
}
