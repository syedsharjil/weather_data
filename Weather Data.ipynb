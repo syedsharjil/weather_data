{
 "cells": [
  {
   "cell_type": "code",
   "execution_count": 45,
   "id": "2ce3fc20-3c8a-4192-ad8d-999d915adeb0",
   "metadata": {},
   "outputs": [],
   "source": [
    "import glob\n",
    "import pandas as pd\n",
    "import os\n",
    "\n",
    "import pyspark\n",
    "import warnings\n",
    "warnings.filterwarnings(action='ignore')\n",
    "# from pyspark import SparkContext\n",
    "# sc = SparkContext()\n",
    "\n",
    "# from pyspark.sql import SQLContext\n",
    "# sqlContext = SQLContext(sc)\n",
    "\n",
    "\n",
    "\n",
    "from pyspark.sql import SparkSession\n",
    "\n",
    "spark = SparkSession \\\n",
    "    .builder \\\n",
    "    .appName(\"Python Spark SQL basic example\") \\\n",
    "    .getOrCreate()"
   ]
  },
  {
   "cell_type": "code",
   "execution_count": 46,
   "id": "cd617c23-8d47-4927-bc47-40bb3b7c39ad",
   "metadata": {},
   "outputs": [
    {
     "data": {
      "text/plain": [
       "'/Users/syedmisbah.ahmed/Desktop/Weather Data'"
      ]
     },
     "execution_count": 46,
     "metadata": {},
     "output_type": "execute_result"
    }
   ],
   "source": [
    "os.getcwd()"
   ]
  },
  {
   "cell_type": "code",
   "execution_count": 47,
   "id": "df7b435b-0052-4e11-b203-9b0ff404b436",
   "metadata": {},
   "outputs": [
    {
     "name": "stdout",
     "output_type": "stream",
     "text": [
      "['2020.csv', '2021.csv', '2019.csv', '2018.csv', '2015.csv', '2016.csv', '2017.csv', 'output/weather_data_year_month.csv', 'output/agg_year.csv', 'output copy/weather_data_year_month.csv', 'output copy/agg_year.csv']\n"
     ]
    }
   ],
   "source": [
    "#Read Clicks Data\n",
    "# files_path = \n",
    "files_path = glob.glob( '**/*.csv',recursive=True)\n",
    "\n",
    "files_path = files_path\n",
    "print(files_path)\n",
    "# df_clicks = pd.DataFrame()\n",
    "# for file in files_path:\n",
    "#     print(file)\n",
    "#     df = pd.read_parquet(file)\n",
    "#     df_clicks = df_clicks.append(df)\n",
    "# print(df_clicks.shape)"
   ]
  },
  {
   "cell_type": "code",
   "execution_count": 48,
   "id": "853c439b-6131-49c6-a8b4-24e83e3f71d2",
   "metadata": {},
   "outputs": [],
   "source": [
    "from pyspark.sql.types import StructType, StructField, IntegerType,StringType,DoubleType\n",
    "\n",
    "schema = StructType([\n",
    "    StructField(\"STATION\", StringType(), True),\n",
    "    StructField(\"YEARMONTH\", StringType(), True),\n",
    "    StructField(\"KPI\", StringType(), True),\n",
    "    StructField(\"VALUE\", DoubleType(), True),\n",
    "    StructField(\"FLAG1\", StringType(), True),\n",
    "    StructField(\"FLAG2\", StringType(), True),\n",
    "    StructField(\"FLAG3\", StringType(), True),\n",
    "    StructField(\"FLAG4\", StringType(), True)])\n",
    "\n",
    "\n",
    "schema_less = StructType([\n",
    "    StructField(\"STATION\", StringType(), True),\n",
    "    StructField(\"YEARMONTH\", StringType(), True),\n",
    "    StructField(\"KPI\", StringType(), True),\n",
    "    StructField(\"VALUE\", DoubleType(), True),\n",
    "    StructField(\"COUNTRY_CODE\", DoubleType(), True)])"
   ]
  },
  {
   "cell_type": "code",
   "execution_count": 49,
   "id": "b4bb654c-17bb-46d4-aa1f-026fdabe92da",
   "metadata": {},
   "outputs": [
    {
     "name": "stdout",
     "output_type": "stream",
     "text": [
      "+-------+---------+---+-----+------------+\n",
      "|STATION|YEARMONTH|KPI|VALUE|COUNTRY_CODE|\n",
      "+-------+---------+---+-----+------------+\n",
      "+-------+---------+---+-----+------------+\n",
      "\n"
     ]
    }
   ],
   "source": [
    "main_df = spark.createDataFrame([],schema = schema_less)\n",
    "main_df.show()"
   ]
  },
  {
   "cell_type": "code",
   "execution_count": 50,
   "id": "53300b03-3c6d-4f45-bf62-7268d4875121",
   "metadata": {},
   "outputs": [],
   "source": [
    "col_names = ['STATION','YEARMONTH','KPI','VALUE','COUNTRY_CODE']"
   ]
  },
  {
   "cell_type": "code",
   "execution_count": 51,
   "id": "c850a84b-3198-4782-9277-09b9ad67d36e",
   "metadata": {},
   "outputs": [
    {
     "data": {
      "text/plain": [
       "['2020.csv',\n",
       " '2021.csv',\n",
       " '2019.csv',\n",
       " '2018.csv',\n",
       " '2015.csv',\n",
       " '2016.csv',\n",
       " '2017.csv',\n",
       " 'output/weather_data_year_month.csv',\n",
       " 'output/agg_year.csv',\n",
       " 'output copy/weather_data_year_month.csv',\n",
       " 'output copy/agg_year.csv']"
      ]
     },
     "execution_count": 51,
     "metadata": {},
     "output_type": "execute_result"
    }
   ],
   "source": [
    "files_path"
   ]
  },
  {
   "cell_type": "code",
   "execution_count": 52,
   "id": "7db922a1-ded8-4e0d-a7ba-c5934abed741",
   "metadata": {},
   "outputs": [],
   "source": [
    "files_path =files_path[0:7]"
   ]
  },
  {
   "cell_type": "code",
   "execution_count": 53,
   "id": "2ad64588-3d18-44d0-b803-776c0479ab20",
   "metadata": {},
   "outputs": [
    {
     "data": {
      "text/plain": [
       "['2020.csv',\n",
       " '2021.csv',\n",
       " '2019.csv',\n",
       " '2018.csv',\n",
       " '2015.csv',\n",
       " '2016.csv',\n",
       " '2017.csv']"
      ]
     },
     "execution_count": 53,
     "metadata": {},
     "output_type": "execute_result"
    }
   ],
   "source": [
    "files_path"
   ]
  },
  {
   "cell_type": "code",
   "execution_count": 54,
   "id": "1ab9f277-5889-4559-a6b7-888891d373e0",
   "metadata": {},
   "outputs": [
    {
     "name": "stdout",
     "output_type": "stream",
     "text": [
      "2020.csv\n",
      "2021.csv\n",
      "2019.csv\n",
      "2018.csv\n",
      "2015.csv\n",
      "2016.csv\n",
      "2017.csv\n"
     ]
    }
   ],
   "source": [
    "for i in files_path:\n",
    "    print(i)\n",
    "    df = spark.read.csv(i,inferSchema=False,schema = schema)\n",
    "    df = df.withColumn('COUNTRY_CODE', df.STATION.substr(0,2))\n",
    "    df = df.filter(df.COUNTRY_CODE == 'US').select(col_names).filter(df.KPI.isin(['PRCP','SNOW','SNWD','TMAX','TAVG','TMIN']))\n",
    "    main_df = main_df.unionByName(df)"
   ]
  },
  {
   "cell_type": "code",
   "execution_count": 55,
   "id": "551dcaea-7cf9-44d5-8b37-7eb4f5d5635a",
   "metadata": {},
   "outputs": [],
   "source": [
    "pivotDF = main_df.groupBy(\"STATION\",\"YEARMONTH\").pivot(\"KPI\").sum(\"VALUE\")\n",
    "# pivotDF.printSchema()"
   ]
  },
  {
   "cell_type": "code",
   "execution_count": 56,
   "id": "ea3e3a5b-2a90-4fa1-98ac-ae5b4e766fd1",
   "metadata": {},
   "outputs": [],
   "source": [
    "cleaned_df = pivotDF.dropna(subset=['SNOW','PRCP'],how='all')"
   ]
  },
  {
   "cell_type": "code",
   "execution_count": null,
   "id": "a8ee1993-a893-482c-b1b6-c7e95d1bea5b",
   "metadata": {},
   "outputs": [],
   "source": []
  },
  {
   "cell_type": "code",
   "execution_count": 57,
   "id": "7fb35bf6-967b-4822-a902-683e36884d0e",
   "metadata": {},
   "outputs": [],
   "source": [
    "# from pyspark.sql.functions import col, countDistinct\n",
    "# pivotDF.agg(countDistinct(col(\"YEARMONTH\")).alias(\"count\")).show()"
   ]
  },
  {
   "cell_type": "code",
   "execution_count": 58,
   "id": "3b66b05d-3ffe-406c-8b51-cc4478647f0c",
   "metadata": {},
   "outputs": [],
   "source": [
    "# pivotDF.write.parquet(\"output/weather_data.parquet\")"
   ]
  },
  {
   "cell_type": "code",
   "execution_count": 59,
   "id": "629a6729-5f44-4bc3-b1a9-e42d2356f4d7",
   "metadata": {},
   "outputs": [],
   "source": [
    "stn_df = spark.read.parquet('output/stn.parquet')"
   ]
  },
  {
   "cell_type": "code",
   "execution_count": 60,
   "id": "70f1f581-bc5d-4cb8-8dbf-347eb5c4fa2e",
   "metadata": {},
   "outputs": [],
   "source": [
    "# print(pivotDF.count())\n",
    "join_df = pivotDF.join(stn_df,how='left',on='STATION')\n",
    "# print(join_df.count())"
   ]
  },
  {
   "cell_type": "code",
   "execution_count": 61,
   "id": "ef3a96b3-b4bb-42b0-9946-e16ae51a3c28",
   "metadata": {},
   "outputs": [],
   "source": [
    "# join_df.show()"
   ]
  },
  {
   "cell_type": "code",
   "execution_count": 62,
   "id": "e5025b0e-c709-4b81-b670-67ba0ae6b504",
   "metadata": {},
   "outputs": [],
   "source": [
    "# join_df.filter(join_df.STATE_CITY_NAME.isNull()).count()"
   ]
  },
  {
   "cell_type": "code",
   "execution_count": 63,
   "id": "c30e0a4e-63e1-436c-b64f-073c52975401",
   "metadata": {},
   "outputs": [],
   "source": [
    "join_df = join_df.fillna(subset=['SNOW','PRCP'],value=0.0)"
   ]
  },
  {
   "cell_type": "code",
   "execution_count": 64,
   "id": "d1ac5da5-e3e3-4990-b05f-21a3043ccfe1",
   "metadata": {},
   "outputs": [],
   "source": [
    "# val = '20160106'\n",
    "# val.substr(0,2)"
   ]
  },
  {
   "cell_type": "code",
   "execution_count": 65,
   "id": "fe958c43-1767-4186-965f-ffa47e491308",
   "metadata": {},
   "outputs": [],
   "source": [
    "join_df = join_df.withColumn(\"YEAR\", join_df.YEARMONTH.substr(0,4)).withColumn(\"MONTH\", join_df.YEARMONTH.substr(5,2)).withColumn(\"DAY\", join_df.YEARMONTH.substr(7,2))"
   ]
  },
  {
   "cell_type": "code",
   "execution_count": 66,
   "id": "8a774cec-a43e-4b2b-b999-3daf775f2000",
   "metadata": {},
   "outputs": [],
   "source": [
    "# join_df.show()"
   ]
  },
  {
   "cell_type": "code",
   "execution_count": 67,
   "id": "7a28eb6e-b922-43f9-971f-4b524c6f26f6",
   "metadata": {},
   "outputs": [],
   "source": [
    "import pyspark.sql.functions as F"
   ]
  },
  {
   "cell_type": "code",
   "execution_count": 68,
   "id": "a4f017cb-3ad6-4199-8ded-c51fb92debea",
   "metadata": {},
   "outputs": [],
   "source": [
    "agg_df = join_df.groupBy(\"YEAR\",\"MONTH\",\"STATE_CITY_NAME\").agg(F.max(\"SNOW\").alias(\"MAX_SNOW\"), \\\n",
    "                                                                      F.min(\"SNOW\").alias(\"MIN_SNOW\"), \\\n",
    "                                                                     F.max(\"PRCP\").alias(\"MAX_PRCP\"), \\\n",
    "                                                                     F.min(\"PRCP\").alias(\"MIN_PRCP\"), \\\n",
    "                                                                     F.mean(\"SNOW\").alias(\"MEAN_SNOW\"), \\\n",
    "                                                                     F.mean(\"PRCP\").alias(\"MEAN_PRCP\"), \\\n",
    "                                                                     F.percentile_approx(\"SNOW\", 0.5).alias(\"MEDIAN_SNOW\"), \\\n",
    "                                                                     F.percentile_approx(\"PRCP\", 0.5).alias(\"MEDIAN_PRCP\"), \\\n",
    "                                                                     F.mean(\"LONG\").alias(\"MEAN_LONG\"), \\\n",
    "                                                                     F.mean(\"LAT\").alias(\"MEAN_LAT\") )"
   ]
  },
  {
   "cell_type": "code",
   "execution_count": 69,
   "id": "273b46e6-769f-4328-a052-047469a63cef",
   "metadata": {},
   "outputs": [],
   "source": [
    "agg_year_only_df = join_df.groupBy(\"YEAR\",\"STATE_CITY_NAME\").agg(F.max(\"SNOW\").alias(\"MAX_SNOW\"), \\\n",
    "                                                                      F.min(\"SNOW\").alias(\"MIN_SNOW\"), \\\n",
    "                                                                     F.max(\"PRCP\").alias(\"MAX_PRCP\"), \\\n",
    "                                                                     F.min(\"PRCP\").alias(\"MIN_PRCP\"), \\\n",
    "                                                                     F.mean(\"SNOW\").alias(\"MEAN_SNOW\"), \\\n",
    "                                                                     F.mean(\"PRCP\").alias(\"MEAN_PRCP\"), \\\n",
    "                                                                     F.percentile_approx(\"SNOW\", 0.5).alias(\"MEDIAN_SNOW\"), \\\n",
    "                                                                     F.percentile_approx(\"PRCP\", 0.5).alias(\"MEDIAN_PRCP\"), \\\n",
    "                                                                     F.mean(\"LONG\").alias(\"MEAN_LONG\"), \\\n",
    "                                                                     F.mean(\"LAT\").alias(\"MEAN_LAT\") )"
   ]
  },
  {
   "cell_type": "code",
   "execution_count": 71,
   "id": "4d1fdb81-bd5c-4f61-8936-3e97fd1a6caa",
   "metadata": {},
   "outputs": [],
   "source": [
    "agg_year_only_df.write.parquet('output/agg_data_year_level.parquet')\n",
    "agg_df.write.parquet('output/agg_df_y_m.parquet')"
   ]
  },
  {
   "cell_type": "code",
   "execution_count": 72,
   "id": "c427fd5b-d58f-4009-b091-05bdb26c289c",
   "metadata": {},
   "outputs": [],
   "source": [
    "join_df.write.parquet('output/full_data.parquet')"
   ]
  },
  {
   "cell_type": "code",
   "execution_count": null,
   "id": "4ff7c14e-304d-40d8-9efd-8dc7014678d4",
   "metadata": {},
   "outputs": [],
   "source": []
  }
 ],
 "metadata": {
  "kernelspec": {
   "display_name": "Python 3",
   "language": "python",
   "name": "python3"
  },
  "language_info": {
   "codemirror_mode": {
    "name": "ipython",
    "version": 3
   },
   "file_extension": ".py",
   "mimetype": "text/x-python",
   "name": "python",
   "nbconvert_exporter": "python",
   "pygments_lexer": "ipython3",
   "version": "3.8.8"
  }
 },
 "nbformat": 4,
 "nbformat_minor": 5
}
