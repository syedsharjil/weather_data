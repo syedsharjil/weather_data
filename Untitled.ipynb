{
 "cells": [
  {
   "cell_type": "code",
   "execution_count": 1,
   "id": "ecbaa79b-dfd1-4195-b005-0b90bcd757a3",
   "metadata": {},
   "outputs": [],
   "source": [
    "import pandas as pd"
   ]
  },
  {
   "cell_type": "code",
   "execution_count": 3,
   "id": "858d7b46-b5d3-4069-a487-763666371186",
   "metadata": {},
   "outputs": [],
   "source": [
    "df = pd.read_parquet('output/full_data.parquet/')"
   ]
  },
  {
   "cell_type": "code",
   "execution_count": 4,
   "id": "bb9e2d35-415c-4a64-8868-a6855a586cce",
   "metadata": {},
   "outputs": [
    {
     "data": {
      "text/plain": [
       "Index(['STATION', 'YEARMONTH', 'PRCP', 'SNOW', 'SNWD', 'TAVG', 'TMAX', 'TMIN',\n",
       "       'LAT', 'LONG', 'ELEV', 'NAME', 'ZIP', 'COUNTRY_CODE', 'STATE_CODE',\n",
       "       'STATE_CITY_NAME', '__index_level_0__'],\n",
       "      dtype='object')"
      ]
     },
     "execution_count": 4,
     "metadata": {},
     "output_type": "execute_result"
    }
   ],
   "source": [
    "df.columns"
   ]
  },
  {
   "cell_type": "code",
   "execution_count": 5,
   "id": "feb8b81f-bef8-49ba-b86f-eef23acd8a9a",
   "metadata": {},
   "outputs": [
    {
     "data": {
      "text/plain": [
       "(53318839, 17)"
      ]
     },
     "execution_count": 5,
     "metadata": {},
     "output_type": "execute_result"
    }
   ],
   "source": [
    "df.shape"
   ]
  },
  {
   "cell_type": "code",
   "execution_count": 7,
   "id": "5288fbb8-2e57-42ef-be7b-1491079a159d",
   "metadata": {},
   "outputs": [
    {
     "data": {
      "text/html": [
       "<div>\n",
       "<style scoped>\n",
       "    .dataframe tbody tr th:only-of-type {\n",
       "        vertical-align: middle;\n",
       "    }\n",
       "\n",
       "    .dataframe tbody tr th {\n",
       "        vertical-align: top;\n",
       "    }\n",
       "\n",
       "    .dataframe thead th {\n",
       "        text-align: right;\n",
       "    }\n",
       "</style>\n",
       "<table border=\"1\" class=\"dataframe\">\n",
       "  <thead>\n",
       "    <tr style=\"text-align: right;\">\n",
       "      <th></th>\n",
       "      <th>LAT</th>\n",
       "    </tr>\n",
       "    <tr>\n",
       "      <th>STATION</th>\n",
       "      <th></th>\n",
       "    </tr>\n",
       "  </thead>\n",
       "  <tbody>\n",
       "    <tr>\n",
       "      <th>US009052008</th>\n",
       "      <td>43.7333</td>\n",
       "    </tr>\n",
       "    <tr>\n",
       "      <th>US10adam001</th>\n",
       "      <td>40.5680</td>\n",
       "    </tr>\n",
       "    <tr>\n",
       "      <th>US10adam002</th>\n",
       "      <td>40.5093</td>\n",
       "    </tr>\n",
       "    <tr>\n",
       "      <th>US10adam004</th>\n",
       "      <td>40.4798</td>\n",
       "    </tr>\n",
       "    <tr>\n",
       "      <th>US10adam006</th>\n",
       "      <td>40.4372</td>\n",
       "    </tr>\n",
       "    <tr>\n",
       "      <th>...</th>\n",
       "      <td>...</td>\n",
       "    </tr>\n",
       "    <tr>\n",
       "      <th>USW00096405</th>\n",
       "      <td>60.4731</td>\n",
       "    </tr>\n",
       "    <tr>\n",
       "      <th>USW00096406</th>\n",
       "      <td>64.5014</td>\n",
       "    </tr>\n",
       "    <tr>\n",
       "      <th>USW00096407</th>\n",
       "      <td>66.5620</td>\n",
       "    </tr>\n",
       "    <tr>\n",
       "      <th>USW00096408</th>\n",
       "      <td>63.4519</td>\n",
       "    </tr>\n",
       "    <tr>\n",
       "      <th>USW00096409</th>\n",
       "      <td>68.6483</td>\n",
       "    </tr>\n",
       "  </tbody>\n",
       "</table>\n",
       "<p>39846 rows × 1 columns</p>\n",
       "</div>"
      ],
      "text/plain": [
       "                 LAT\n",
       "STATION             \n",
       "US009052008  43.7333\n",
       "US10adam001  40.5680\n",
       "US10adam002  40.5093\n",
       "US10adam004  40.4798\n",
       "US10adam006  40.4372\n",
       "...              ...\n",
       "USW00096405  60.4731\n",
       "USW00096406  64.5014\n",
       "USW00096407  66.5620\n",
       "USW00096408  63.4519\n",
       "USW00096409  68.6483\n",
       "\n",
       "[39846 rows x 1 columns]"
      ]
     },
     "execution_count": 7,
     "metadata": {},
     "output_type": "execute_result"
    }
   ],
   "source": [
    "df.groupby(['STATION']).agg({'LAT':'mean'})"
   ]
  },
  {
   "cell_type": "code",
   "execution_count": null,
   "id": "f9eea105-6cc1-4999-b2f2-a6ec1b472ed0",
   "metadata": {},
   "outputs": [],
   "source": []
  }
 ],
 "metadata": {
  "kernelspec": {
   "display_name": "Python 3",
   "language": "python",
   "name": "python3"
  },
  "language_info": {
   "codemirror_mode": {
    "name": "ipython",
    "version": 3
   },
   "file_extension": ".py",
   "mimetype": "text/x-python",
   "name": "python",
   "nbconvert_exporter": "python",
   "pygments_lexer": "ipython3",
   "version": "3.8.8"
  }
 },
 "nbformat": 4,
 "nbformat_minor": 5
}
